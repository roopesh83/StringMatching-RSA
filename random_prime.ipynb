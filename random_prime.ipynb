{
 "cells": [
  {
   "cell_type": "code",
   "execution_count": 32,
   "metadata": {},
   "outputs": [],
   "source": [
    "import numpy as np"
   ]
  },
  {
   "cell_type": "code",
   "execution_count": 33,
   "metadata": {},
   "outputs": [],
   "source": [
    "def random_prime32():\n",
    "    i = 1\n",
    "    r = np.random.randint(1, 125002)\n",
    "    with open('primes25.txt') as file:\n",
    "        l = file.readline()\n",
    "        while(l):\n",
    "            if i == r:\n",
    "                \n",
    "                break\n",
    "            l = file.readline()\n",
    "    #         print(l)\n",
    "            \n",
    "            i += 1\n",
    "        print('random list is {}'.format(l))\n",
    "        file.close()"
   ]
  },
  {
   "cell_type": "code",
   "execution_count": 34,
   "metadata": {},
   "outputs": [
    {
     "name": "stdout",
     "output_type": "stream",
     "text": [
      "random list is  457589497 457589501 457589549 457589563 457589591 457589593 457589599 457589641 \n",
      "\n"
     ]
    }
   ],
   "source": [
    "random_prime32()"
   ]
  },
  {
   "cell_type": "code",
   "execution_count": null,
   "metadata": {},
   "outputs": [],
   "source": []
  },
  {
   "cell_type": "code",
   "execution_count": 13,
   "metadata": {},
   "outputs": [],
   "source": [
    "def SieveOE(n):\n",
    "    \n",
    "    prime = [True for i in range(n + 1)]\n",
    "    \n",
    "    p = 2\n",
    "    \n",
    "    while p**2 <= n:\n",
    "        if prime[p]:\n",
    "            for i in range(2 * p, n+1, p):\n",
    "                prime[i] = False\n",
    "        p += 1\n",
    "    for i in range(2, n):\n",
    "        if prime[i]:\n",
    "            print(i)\n",
    "    "
   ]
  },
  {
   "cell_type": "code",
   "execution_count": 15,
   "metadata": {},
   "outputs": [
    {
     "name": "stdout",
     "output_type": "stream",
     "text": [
      "2\n",
      "3\n",
      "5\n",
      "7\n",
      "11\n",
      "13\n",
      "17\n",
      "19\n",
      "23\n",
      "29\n"
     ]
    }
   ],
   "source": [
    "SieveOE(30)"
   ]
  },
  {
   "cell_type": "code",
   "execution_count": 2,
   "metadata": {},
   "outputs": [
    {
     "name": "stdout",
     "output_type": "stream",
     "text": [
      "2\n",
      "3\n",
      "5\n",
      "7\n"
     ]
    }
   ],
   "source": []
  },
  {
   "cell_type": "code",
   "execution_count": null,
   "metadata": {},
   "outputs": [],
   "source": []
  }
 ],
 "metadata": {
  "kernelspec": {
   "display_name": "Python 3",
   "language": "python",
   "name": "python3"
  },
  "language_info": {
   "codemirror_mode": {
    "name": "ipython",
    "version": 3
   },
   "file_extension": ".py",
   "mimetype": "text/x-python",
   "name": "python",
   "nbconvert_exporter": "python",
   "pygments_lexer": "ipython3",
   "version": "3.7.0"
  }
 },
 "nbformat": 4,
 "nbformat_minor": 2
}
