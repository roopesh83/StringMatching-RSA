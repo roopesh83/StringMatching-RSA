{
 "cells": [
  {
   "cell_type": "markdown",
   "metadata": {},
   "source": [
    "(7 ** 5600000) % 561"
   ]
  },
  {
   "cell_type": "markdown",
   "metadata": {},
   "source": [
    "pow(7, 5600000, 561)"
   ]
  },
  {
   "cell_type": "markdown",
   "metadata": {},
   "source": [
    "chr(97)"
   ]
  },
  {
   "cell_type": "markdown",
   "metadata": {},
   "source": [
    "ord('a')"
   ]
  },
  {
   "cell_type": "markdown",
   "metadata": {},
   "source": [
    "ord('A')"
   ]
  },
  {
   "cell_type": "code",
   "execution_count": 25,
   "metadata": {},
   "outputs": [],
   "source": [
    "# d is the number of characters in the input alphabet \n",
    "d = 256\n",
    "\n",
    "def search(P, T, q):   #pattern, text and radix\n",
    "    M = len(P) \n",
    "    N = len(T) \n",
    "    i = 0\n",
    "    j = 0\n",
    "    p = 0  \n",
    "    t = 0 \n",
    "    h = 1\n",
    "    listValidShifts = []\n",
    "\n",
    "\n",
    "    for i in range(M-1): \n",
    "        h = (h * d)% q   #(d^m-1)%q\n",
    "\n",
    "    for i in range(M): \n",
    "        p = (d * p + ord(P[i]))% q   #ascii equivalent of characters\n",
    "        t = (d * t + ord(T[i]))% q \n",
    "\n",
    "    for i in range(N-M + 1): \n",
    "        if p == t:   #could be spurious hit, so check using Naive matching\n",
    "            for j in range(M): \n",
    "                if T[i + j] != P[j]: \n",
    "                    break\n",
    "            j+= 1\n",
    "            if j == M:\n",
    "                listValidShifts.append(i)\n",
    "                print(\"Pattern P found at index \" + str(i)) \n",
    "\n",
    "        if i < N-M: \n",
    "            t = (d*(t-ord(T[i])*h) + ord(T[i + M]))% q\n",
    "            #to handle negative values of t\n",
    "            if t < 0: \n",
    "                t = t + q\n",
    "    return listValidShifts\n"
   ]
  },
  {
   "cell_type": "code",
   "execution_count": 26,
   "metadata": {},
   "outputs": [],
   "source": [
    "def readText(fileName = 'C:\\\\Users\\\\dell\\\\Documents\\\\Assignments 2nd semester\\\\AA\\\\sample.txt'): #keyword arg with default value\n",
    "    with open(fileName) as file:\n",
    "        text = file.read()\n",
    "        file.close()\n",
    "        return text"
   ]
  },
  {
   "cell_type": "code",
   "execution_count": 27,
   "metadata": {},
   "outputs": [
    {
     "data": {
      "text/plain": [
       "'C:\\\\Users\\\\dell\\\\Documents\\\\Assignments 2nd semester\\\\AA'"
      ]
     },
     "execution_count": 27,
     "metadata": {},
     "output_type": "execute_result"
    }
   ],
   "source": [
    "pwd"
   ]
  },
  {
   "cell_type": "code",
   "execution_count": 28,
   "metadata": {},
   "outputs": [
    {
     "name": "stdout",
     "output_type": "stream",
     "text": [
      "While a game is always bigger than a player, a lot of people will agree that Sachin Tendulkar was the closest thing to threatening that maxim, at least in India where he enjoyed an unprecedented following. His talent and achievements consistent over more than two decades made him a giant of a player, and even years after quitting the game he remains Indiaâ€™s favourite son.\n",
      "\n",
      "\n",
      "A child prodigy, Tendulkar made his Test debut at the age of 16 in 1989 against Pakistan. Later on his first tours of England and Australia with the national team he got a few centuries and stellar cricket pundits from both countries concurred that a batting genius was born.\n",
      "\n",
      "\n",
      "Over the next two decades, almost every record was smashed by the man who could play in any situation; who could drop anchor or weigh anchor with equal dexterity. In 2012, he became the first player to score 100 international tons besides being miles ahead in terms of runs scored in Tests and ODIs. He was also the first player to break the double-hundred barrier in ODIs in 2008 when he achieved the unthinkable in Gwalior against South Africa.\n",
      "\n",
      "\n",
      "Tendulkarâ€™s contribution goes beyond runs and artistry. He didnâ€™t just pile up those runs, he also helped others around him improve their game and contribute in a big way, especially abroad. Consequently post mid-90s, India produced a slew of master batsmen, and while their own talent was undeniable, harnessing in many ways was done by Tendulkar. He retired from international cricket in 2013 and hours after his last game was conferred the highest civilian award in India, the Bharat Ratna, a first for a sportsperson. The 2011 World Cup winner continues to be involved with cricket in one way or another.\n"
     ]
    }
   ],
   "source": [
    "print(readText())"
   ]
  },
  {
   "cell_type": "code",
   "execution_count": 29,
   "metadata": {},
   "outputs": [
    {
     "name": "stdout",
     "output_type": "stream",
     "text": [
      "Enter the patterngame\n",
      "Pattern P found at index 8\n",
      "Pattern P found at index 336\n",
      "Pattern P found at index 1248\n",
      "Pattern P found at index 1530\n"
     ]
    }
   ],
   "source": [
    "# Driver program to test the above function \n",
    "T = readText()\n",
    "P = input('Enter the pattern')\n",
    "q = 101 # A prime number \n",
    "listValidShifts = search(P, T, q) "
   ]
  },
  {
   "cell_type": "code",
   "execution_count": 30,
   "metadata": {},
   "outputs": [
    {
     "data": {
      "text/plain": [
       "[8, 336, 1248, 1530]"
      ]
     },
     "execution_count": 30,
     "metadata": {},
     "output_type": "execute_result"
    }
   ],
   "source": [
    "listValidShifts"
   ]
  },
  {
   "cell_type": "code",
   "execution_count": 31,
   "metadata": {},
   "outputs": [],
   "source": [
    "def writeText(pattern, listValidShifts, fileName = 'C:\\\\Users\\\\dell\\\\Documents\\\\Assignments 2nd semester\\\\AA\\\\validShifts.txt'):\n",
    "    with open(fileName, 'w') as file:\n",
    "        file.write('Valid shifts for pattern \\'{}\\'\\n'.format(P))\n",
    "        for i in listValidShifts:\n",
    "            file.write('{}\\t'.format(i))\n",
    "        file.close()"
   ]
  },
  {
   "cell_type": "code",
   "execution_count": 32,
   "metadata": {},
   "outputs": [
    {
     "name": "stdout",
     "output_type": "stream",
     "text": [
      "Pattern P found at index 8\n",
      "Pattern P found at index 336\n",
      "Pattern P found at index 1248\n",
      "Pattern P found at index 1530\n"
     ]
    }
   ],
   "source": [
    "writeText(pattern = P, listValidShifts = search(P = P, T = readText(), q = 101))"
   ]
  },
  {
   "cell_type": "markdown",
   "metadata": {},
   "source": [
    "# RSA encryption "
   ]
  },
  {
   "cell_type": "code",
   "execution_count": 33,
   "metadata": {},
   "outputs": [],
   "source": [
    "p = 53\n",
    "q = 59\n",
    "n = p * q"
   ]
  },
  {
   "cell_type": "code",
   "execution_count": 45,
   "metadata": {},
   "outputs": [],
   "source": [
    "phi = (p - 1)*(q - 1)"
   ]
  },
  {
   "cell_type": "code",
   "execution_count": 38,
   "metadata": {},
   "outputs": [
    {
     "name": "stdout",
     "output_type": "stream",
     "text": [
      "gcd( 35 , 15 ) =  (5, 1, -2)\n"
     ]
    }
   ],
   "source": [
    "# Extended Euclidean Algorithm \n",
    "\n",
    "# function for extended Euclidean Algorithm \n",
    "def extendedEuclid(a, b): \n",
    "    # Base Case \n",
    "    if b == 0 : \n",
    "        return (a, 1, 0) \n",
    "    else:\n",
    "        (d1, x1, y1) = extendedEuclid(b, a % b)\n",
    "        (d, x, y) = (d1, y1, (x1 - (a // b) * y1))\n",
    "        return (d, x, y)\n",
    "\n",
    "a = 35\n",
    "b = 15\n",
    "g = extendedEuclid(a, b) \n",
    "# print(\"gcd(\", a , \",\" , b, \") = \", g) \n",
    "\n",
    "# Code Contributed by Mohit Gupta_OMG <(0_o)> \n"
   ]
  },
  {
   "cell_type": "code",
   "execution_count": 43,
   "metadata": {},
   "outputs": [],
   "source": [
    "for i in range(2, n):\n",
    "    gcd = extendedEuclid(i, n)[0]\n",
    "    if( (gcd == 1) and (i % 2 != 0) ):\n",
    "        e = i\n",
    "        break"
   ]
  },
  {
   "cell_type": "code",
   "execution_count": 44,
   "metadata": {},
   "outputs": [
    {
     "data": {
      "text/plain": [
       "3"
      ]
     },
     "execution_count": 44,
     "metadata": {},
     "output_type": "execute_result"
    }
   ],
   "source": [
    "e"
   ]
  },
  {
   "cell_type": "markdown",
   "metadata": {},
   "source": [
    "e*d -eq (1 mod phi(n)) i.e. d is multiplicative modular inverse of e wrt. phi(n)"
   ]
  },
  {
   "cell_type": "code",
   "execution_count": 60,
   "metadata": {},
   "outputs": [],
   "source": [
    "(gcd, x1, y1) = extendedEuclid(e, phi)\n",
    "x0 = ((x1 * 1) / gcd)%phi\n",
    "x0 = int(x0)\n",
    "d = x0"
   ]
  },
  {
   "cell_type": "markdown",
   "metadata": {},
   "source": [
    "pow(2121212102121212101, e, n)"
   ]
  },
  {
   "cell_type": "markdown",
   "metadata": {},
   "source": [
    "pow(pow(89, e, n), d, n)"
   ]
  },
  {
   "cell_type": "code",
   "execution_count": 86,
   "metadata": {},
   "outputs": [],
   "source": [
    "def encrypt(m):\n",
    "    return pow(m, e, n)\n",
    "def decrypt(c):\n",
    "    return pow(c, d, n)"
   ]
  },
  {
   "cell_type": "markdown",
   "metadata": {},
   "source": [
    "encrypt(89)"
   ]
  },
  {
   "cell_type": "markdown",
   "metadata": {},
   "source": [
    "decrypt(1394)"
   ]
  },
  {
   "cell_type": "code",
   "execution_count": 94,
   "metadata": {},
   "outputs": [],
   "source": [
    "def creditCardNumber_str(listOfAscii):\n",
    "    '''returns string from a sequence of ascii chars'''\n",
    "    str1 = ''\n",
    "    for x in listOfAscii:\n",
    "        str1 += chr(x)\n",
    "    return str1"
   ]
  },
  {
   "cell_type": "code",
   "execution_count": 83,
   "metadata": {},
   "outputs": [],
   "source": [
    "def ascii_list(str1):\n",
    "    return [ord(x) for x in str1]"
   ]
  },
  {
   "cell_type": "markdown",
   "metadata": {},
   "source": [
    "ascii_list('a')"
   ]
  },
  {
   "cell_type": "markdown",
   "metadata": {},
   "source": [
    "lst"
   ]
  },
  {
   "cell_type": "markdown",
   "metadata": {},
   "source": [
    "creditCardNumber_str(lst)"
   ]
  },
  {
   "cell_type": "code",
   "execution_count": 177,
   "metadata": {},
   "outputs": [],
   "source": [
    "def encryptCreditCard(credit_card_string):\n",
    "    listOfAscii = ascii_list(credit_card_string)\n",
    "#     print(listOfAscii)\n",
    "    listOfEncryptedAscii = [encrypt(x) for x in listOfAscii]\n",
    "#     print(listOfEncryptedAscii)\n",
    "    return listOfEncryptedAscii"
   ]
  },
  {
   "cell_type": "code",
   "execution_count": 98,
   "metadata": {},
   "outputs": [
    {
     "name": "stdout",
     "output_type": "stream",
     "text": [
      "[50, 49, 50, 49, 50, 49, 50, 49, 48, 50, 49, 50, 49, 50, 49, 50, 49, 48, 49]\n",
      "[3047, 1950, 3047, 1950, 3047, 1950, 3047, 1950, 1147, 3047, 1950, 3047, 1950, 3047, 1950, 3047, 1950, 1147, 1950]\n"
     ]
    }
   ],
   "source": [
    "credit_card_string = '2121212102121212101'\n",
    "cipherText = encryptCreditCard(credit_card_string)"
   ]
  },
  {
   "cell_type": "code",
   "execution_count": 160,
   "metadata": {},
   "outputs": [],
   "source": [
    "def decryptCreditCard(encryptedCreditCard):\n",
    "    listOfDecryptedAscii = [decrypt(x) for x in encryptedCreditCard]\n",
    "#     print(creditCardNumber_str(listOfDecryptedAscii))\n",
    "    return (creditCardNumber_str(listOfDecryptedAscii))"
   ]
  },
  {
   "cell_type": "code",
   "execution_count": 102,
   "metadata": {},
   "outputs": [
    {
     "name": "stdout",
     "output_type": "stream",
     "text": [
      "2121212102121212101\n"
     ]
    },
    {
     "data": {
      "text/plain": [
       "'2121212102121212101'"
      ]
     },
     "execution_count": 102,
     "metadata": {},
     "output_type": "execute_result"
    }
   ],
   "source": [
    "decryptCreditCard(cipherText)"
   ]
  },
  {
   "cell_type": "code",
   "execution_count": 105,
   "metadata": {},
   "outputs": [],
   "source": []
  },
  {
   "cell_type": "code",
   "execution_count": 174,
   "metadata": {},
   "outputs": [],
   "source": [
    "def writeCipherTextToFile(cipherText, filename = 'outputFile.txt'):\n",
    "    '''accepts cipher text chars as list and writes them to file'''\n",
    "    with open(filename, 'a+') as file:\n",
    "        str1 = str(cipherText)\n",
    "        str1 = str1.replace('[', '')\n",
    "        str1 = str1.replace(']', '')\n",
    "        str1 = str1.replace(',', '')\n",
    "        file.write(str1 + '\\n')\n",
    "        file.close()\n",
    "    "
   ]
  },
  {
   "cell_type": "code",
   "execution_count": null,
   "metadata": {},
   "outputs": [],
   "source": [
    "# def write"
   ]
  },
  {
   "cell_type": "code",
   "execution_count": 123,
   "metadata": {},
   "outputs": [],
   "source": [
    "writeCipherTextToFile(cipherText)"
   ]
  },
  {
   "cell_type": "code",
   "execution_count": 110,
   "metadata": {},
   "outputs": [
    {
     "data": {
      "text/plain": [
       "'3047 1950 3047 1950 3047 1950 3047 1950 1147 3047 1950 3047 1950 3047 1950 3047 1950 1147 1950'"
      ]
     },
     "execution_count": 110,
     "metadata": {},
     "output_type": "execute_result"
    }
   ],
   "source": [
    "str1"
   ]
  },
  {
   "cell_type": "code",
   "execution_count": 126,
   "metadata": {},
   "outputs": [],
   "source": [
    "import numpy as np"
   ]
  },
  {
   "cell_type": "code",
   "execution_count": 143,
   "metadata": {},
   "outputs": [],
   "source": [
    "def generateRandomCreditCard():\n",
    "    a = ''\n",
    "    while len(a) < 19:\n",
    "        a += str(np.random.randint(0, 123456789))\n",
    "    a = a[0:19]\n",
    "    return a\n",
    "    # print(a)\n",
    "    # print(len(a))"
   ]
  },
  {
   "cell_type": "code",
   "execution_count": null,
   "metadata": {},
   "outputs": [],
   "source": []
  },
  {
   "cell_type": "markdown",
   "metadata": {},
   "source": [
    "# to generate 1000 random credit card numbers in inputFile.txt"
   ]
  },
  {
   "cell_type": "code",
   "execution_count": 167,
   "metadata": {},
   "outputs": [],
   "source": [
    "def generateRandomCreditCardNumbers(n, fileName = 'inputFile.txt'):\n",
    "    '''accepts n, and generates n random credit card numbers'''\n",
    "    with open(fileName, 'w') as file:\n",
    "        for i in range(n):\n",
    "            file.write(generateRandomCreditCard() + '\\n')\n",
    "        file.close()\n",
    "        "
   ]
  },
  {
   "cell_type": "code",
   "execution_count": 163,
   "metadata": {},
   "outputs": [],
   "source": [
    "# generateRandomCreditCardNumbers(50)"
   ]
  },
  {
   "cell_type": "markdown",
   "metadata": {},
   "source": [
    "# to generate ciphertext and store them in outputfile.txt"
   ]
  },
  {
   "cell_type": "code",
   "execution_count": 175,
   "metadata": {},
   "outputs": [],
   "source": [
    "def rsa_encryption(inputFilename = 'inputFile.txt', outputFilename = 'outputFile.txt'):\n",
    "    with open(inputFilename, 'r') as file:\n",
    "        line = file.readline()\n",
    "        line = line.strip('\\n')\n",
    "        while(line):\n",
    "    #         print(line)\n",
    "            writeCipherTextToFile(encryptCreditCard(line), outputFilename)\n",
    "            line = file.readline()\n",
    "            line = line.strip('\\n')\n",
    "        file.close()"
   ]
  },
  {
   "cell_type": "markdown",
   "metadata": {},
   "source": [
    "# to read encrypted characters from outputfile.txt and decrypt them, and store the decrypted characters to outputFileConfirm.txt"
   ]
  },
  {
   "cell_type": "code",
   "execution_count": 172,
   "metadata": {},
   "outputs": [],
   "source": [
    "def rsa_decryption(inputFilename = 'outputFile.txt', outputFilename = 'outputFileConfirm.txt'):    \n",
    "    '''here outputFilename consists of ciphertext\n",
    "    outputFilename corresponds to a file same as plaintext file\n",
    "    '''\n",
    "    with open(inputFilename, 'r') as file:\n",
    "        line = file.readline()\n",
    "        line = line.strip('\\n')\n",
    "        with open(outputFilename, 'w') as file1:\n",
    "            while(line):\n",
    "        #         print(line)\n",
    "                creditcard_encrypted_chars = line.split(' ')\n",
    "                creditcard_encrypted_chars = [int(x) for x in creditcard_encrypted_chars]\n",
    "    #             print(decryptCreditCard(creditcard_encrypted_chars))\n",
    "                file1.write(decryptCreditCard(creditcard_encrypted_chars) + '\\n')\n",
    "                line = file.readline()\n",
    "                line = line.strip('\\n')\n",
    "        file.close()\n",
    "    "
   ]
  },
  {
   "cell_type": "code",
   "execution_count": 179,
   "metadata": {
    "scrolled": true
   },
   "outputs": [],
   "source": [
    "rsa_encryption()"
   ]
  },
  {
   "cell_type": "code",
   "execution_count": 180,
   "metadata": {},
   "outputs": [],
   "source": [
    "rsa_decryption()"
   ]
  },
  {
   "cell_type": "code",
   "execution_count": null,
   "metadata": {},
   "outputs": [],
   "source": []
  }
 ],
 "metadata": {
  "kernelspec": {
   "display_name": "Python 3",
   "language": "python",
   "name": "python3"
  },
  "language_info": {
   "codemirror_mode": {
    "name": "ipython",
    "version": 3
   },
   "file_extension": ".py",
   "mimetype": "text/x-python",
   "name": "python",
   "nbconvert_exporter": "python",
   "pygments_lexer": "ipython3",
   "version": "3.7.0"
  }
 },
 "nbformat": 4,
 "nbformat_minor": 2
}
